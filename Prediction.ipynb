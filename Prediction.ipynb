{
 "cells": [
  {
   "cell_type": "code",
   "execution_count": 1,
   "metadata": {},
   "outputs": [],
   "source": [
    "import numpy as np\n",
    "import pandas as pd\n",
    "import matplotlib.pyplot as plt\n",
    "%matplotlib inline"
   ]
  },
  {
   "cell_type": "code",
   "execution_count": 2,
   "metadata": {},
   "outputs": [],
   "source": [
    "data = pd.read_csv('d_sih.csv')"
   ]
  },
  {
   "cell_type": "code",
   "execution_count": 3,
   "metadata": {},
   "outputs": [
    {
     "data": {
      "text/html": [
       "<div>\n",
       "<style scoped>\n",
       "    .dataframe tbody tr th:only-of-type {\n",
       "        vertical-align: middle;\n",
       "    }\n",
       "\n",
       "    .dataframe tbody tr th {\n",
       "        vertical-align: top;\n",
       "    }\n",
       "\n",
       "    .dataframe thead th {\n",
       "        text-align: right;\n",
       "    }\n",
       "</style>\n",
       "<table border=\"1\" class=\"dataframe\">\n",
       "  <thead>\n",
       "    <tr style=\"text-align: right;\">\n",
       "      <th></th>\n",
       "      <th>Age</th>\n",
       "      <th>Bmi</th>\n",
       "      <th>Drinking</th>\n",
       "      <th>Excercise</th>\n",
       "      <th>Gender</th>\n",
       "      <th>Junk</th>\n",
       "      <th>Sleep</th>\n",
       "      <th>Smoking</th>\n",
       "      <th>Diabetes</th>\n",
       "      <th>Hypertension</th>\n",
       "      <th>Depression</th>\n",
       "      <th>output</th>\n",
       "    </tr>\n",
       "  </thead>\n",
       "  <tbody>\n",
       "    <tr>\n",
       "      <th>0</th>\n",
       "      <td>46</td>\n",
       "      <td>15</td>\n",
       "      <td>1</td>\n",
       "      <td>1</td>\n",
       "      <td>1</td>\n",
       "      <td>2</td>\n",
       "      <td>1</td>\n",
       "      <td>0</td>\n",
       "      <td>88.12</td>\n",
       "      <td>77.05</td>\n",
       "      <td>44.04</td>\n",
       "      <td>2</td>\n",
       "    </tr>\n",
       "    <tr>\n",
       "      <th>1</th>\n",
       "      <td>8</td>\n",
       "      <td>34</td>\n",
       "      <td>1</td>\n",
       "      <td>2</td>\n",
       "      <td>0</td>\n",
       "      <td>1</td>\n",
       "      <td>2</td>\n",
       "      <td>0</td>\n",
       "      <td>21.26</td>\n",
       "      <td>45.60</td>\n",
       "      <td>5.35</td>\n",
       "      <td>3</td>\n",
       "    </tr>\n",
       "    <tr>\n",
       "      <th>2</th>\n",
       "      <td>63</td>\n",
       "      <td>15</td>\n",
       "      <td>0</td>\n",
       "      <td>3</td>\n",
       "      <td>0</td>\n",
       "      <td>3</td>\n",
       "      <td>1</td>\n",
       "      <td>0</td>\n",
       "      <td>56.64</td>\n",
       "      <td>37.70</td>\n",
       "      <td>49.00</td>\n",
       "      <td>2</td>\n",
       "    </tr>\n",
       "    <tr>\n",
       "      <th>3</th>\n",
       "      <td>42</td>\n",
       "      <td>32</td>\n",
       "      <td>0</td>\n",
       "      <td>2</td>\n",
       "      <td>0</td>\n",
       "      <td>2</td>\n",
       "      <td>2</td>\n",
       "      <td>1</td>\n",
       "      <td>42.72</td>\n",
       "      <td>47.40</td>\n",
       "      <td>52.10</td>\n",
       "      <td>1</td>\n",
       "    </tr>\n",
       "    <tr>\n",
       "      <th>4</th>\n",
       "      <td>45</td>\n",
       "      <td>30</td>\n",
       "      <td>0</td>\n",
       "      <td>2</td>\n",
       "      <td>1</td>\n",
       "      <td>1</td>\n",
       "      <td>1</td>\n",
       "      <td>1</td>\n",
       "      <td>44.76</td>\n",
       "      <td>20.06</td>\n",
       "      <td>38.68</td>\n",
       "      <td>2</td>\n",
       "    </tr>\n",
       "  </tbody>\n",
       "</table>\n",
       "</div>"
      ],
      "text/plain": [
       "   Age  Bmi  Drinking  Excercise  Gender  Junk  Sleep  Smoking  Diabetes  \\\n",
       "0   46   15         1          1       1     2      1        0     88.12   \n",
       "1    8   34         1          2       0     1      2        0     21.26   \n",
       "2   63   15         0          3       0     3      1        0     56.64   \n",
       "3   42   32         0          2       0     2      2        1     42.72   \n",
       "4   45   30         0          2       1     1      1        1     44.76   \n",
       "\n",
       "   Hypertension  Depression  output  \n",
       "0         77.05       44.04       2  \n",
       "1         45.60        5.35       3  \n",
       "2         37.70       49.00       2  \n",
       "3         47.40       52.10       1  \n",
       "4         20.06       38.68       2  "
      ]
     },
     "execution_count": 3,
     "metadata": {},
     "output_type": "execute_result"
    }
   ],
   "source": [
    "data.head()"
   ]
  },
  {
   "cell_type": "code",
   "execution_count": 4,
   "metadata": {},
   "outputs": [
    {
     "name": "stdout",
     "output_type": "stream",
     "text": [
      "<class 'pandas.core.frame.DataFrame'>\n",
      "RangeIndex: 996 entries, 0 to 995\n",
      "Data columns (total 12 columns):\n",
      " #   Column        Non-Null Count  Dtype  \n",
      "---  ------        --------------  -----  \n",
      " 0   Age           996 non-null    int64  \n",
      " 1   Bmi           996 non-null    int64  \n",
      " 2   Drinking      996 non-null    int64  \n",
      " 3   Excercise     996 non-null    int64  \n",
      " 4   Gender        996 non-null    int64  \n",
      " 5   Junk          996 non-null    int64  \n",
      " 6   Sleep         996 non-null    int64  \n",
      " 7   Smoking       996 non-null    int64  \n",
      " 8   Diabetes      996 non-null    float64\n",
      " 9   Hypertension  996 non-null    float64\n",
      " 10  Depression    996 non-null    float64\n",
      " 11  output        996 non-null    int64  \n",
      "dtypes: float64(3), int64(9)\n",
      "memory usage: 93.5 KB\n"
     ]
    }
   ],
   "source": [
    "data.info()"
   ]
  },
  {
   "cell_type": "code",
   "execution_count": 5,
   "metadata": {},
   "outputs": [
    {
     "data": {
      "text/plain": [
       "Age             0\n",
       "Bmi             0\n",
       "Drinking        0\n",
       "Excercise       0\n",
       "Gender          0\n",
       "Junk            0\n",
       "Sleep           0\n",
       "Smoking         0\n",
       "Diabetes        0\n",
       "Hypertension    0\n",
       "Depression      0\n",
       "output          0\n",
       "dtype: int64"
      ]
     },
     "execution_count": 5,
     "metadata": {},
     "output_type": "execute_result"
    }
   ],
   "source": [
    "data.isnull().sum()"
   ]
  },
  {
   "cell_type": "code",
   "execution_count": 6,
   "metadata": {},
   "outputs": [
    {
     "data": {
      "text/html": [
       "<div>\n",
       "<style scoped>\n",
       "    .dataframe tbody tr th:only-of-type {\n",
       "        vertical-align: middle;\n",
       "    }\n",
       "\n",
       "    .dataframe tbody tr th {\n",
       "        vertical-align: top;\n",
       "    }\n",
       "\n",
       "    .dataframe thead th {\n",
       "        text-align: right;\n",
       "    }\n",
       "</style>\n",
       "<table border=\"1\" class=\"dataframe\">\n",
       "  <thead>\n",
       "    <tr style=\"text-align: right;\">\n",
       "      <th></th>\n",
       "      <th>Age</th>\n",
       "      <th>Bmi</th>\n",
       "      <th>Drinking</th>\n",
       "      <th>Excercise</th>\n",
       "      <th>Gender</th>\n",
       "      <th>Junk</th>\n",
       "      <th>Sleep</th>\n",
       "      <th>Smoking</th>\n",
       "      <th>Diabetes</th>\n",
       "      <th>Hypertension</th>\n",
       "      <th>Depression</th>\n",
       "      <th>output</th>\n",
       "    </tr>\n",
       "  </thead>\n",
       "  <tbody>\n",
       "    <tr>\n",
       "      <th>count</th>\n",
       "      <td>996.000000</td>\n",
       "      <td>996.000000</td>\n",
       "      <td>996.000000</td>\n",
       "      <td>996.000000</td>\n",
       "      <td>996.000000</td>\n",
       "      <td>996.000000</td>\n",
       "      <td>996.000000</td>\n",
       "      <td>996.000000</td>\n",
       "      <td>996.000000</td>\n",
       "      <td>996.000000</td>\n",
       "      <td>996.000000</td>\n",
       "      <td>996.000000</td>\n",
       "    </tr>\n",
       "    <tr>\n",
       "      <th>mean</th>\n",
       "      <td>46.425703</td>\n",
       "      <td>24.959839</td>\n",
       "      <td>0.468876</td>\n",
       "      <td>1.998996</td>\n",
       "      <td>0.475904</td>\n",
       "      <td>1.993976</td>\n",
       "      <td>2.006024</td>\n",
       "      <td>0.482932</td>\n",
       "      <td>41.887811</td>\n",
       "      <td>48.727909</td>\n",
       "      <td>47.401717</td>\n",
       "      <td>1.874498</td>\n",
       "    </tr>\n",
       "    <tr>\n",
       "      <th>std</th>\n",
       "      <td>25.705395</td>\n",
       "      <td>6.036605</td>\n",
       "      <td>0.499281</td>\n",
       "      <td>0.810111</td>\n",
       "      <td>0.499670</td>\n",
       "      <td>0.827883</td>\n",
       "      <td>0.805736</td>\n",
       "      <td>0.499960</td>\n",
       "      <td>27.373815</td>\n",
       "      <td>30.272018</td>\n",
       "      <td>28.655386</td>\n",
       "      <td>0.887270</td>\n",
       "    </tr>\n",
       "    <tr>\n",
       "      <th>min</th>\n",
       "      <td>2.000000</td>\n",
       "      <td>15.000000</td>\n",
       "      <td>0.000000</td>\n",
       "      <td>1.000000</td>\n",
       "      <td>0.000000</td>\n",
       "      <td>1.000000</td>\n",
       "      <td>1.000000</td>\n",
       "      <td>0.000000</td>\n",
       "      <td>0.220000</td>\n",
       "      <td>0.093000</td>\n",
       "      <td>0.080000</td>\n",
       "      <td>1.000000</td>\n",
       "    </tr>\n",
       "    <tr>\n",
       "      <th>25%</th>\n",
       "      <td>24.000000</td>\n",
       "      <td>20.000000</td>\n",
       "      <td>0.000000</td>\n",
       "      <td>1.000000</td>\n",
       "      <td>0.000000</td>\n",
       "      <td>1.000000</td>\n",
       "      <td>1.000000</td>\n",
       "      <td>0.000000</td>\n",
       "      <td>18.260000</td>\n",
       "      <td>21.593000</td>\n",
       "      <td>24.080000</td>\n",
       "      <td>1.000000</td>\n",
       "    </tr>\n",
       "    <tr>\n",
       "      <th>50%</th>\n",
       "      <td>46.000000</td>\n",
       "      <td>25.000000</td>\n",
       "      <td>0.000000</td>\n",
       "      <td>2.000000</td>\n",
       "      <td>0.000000</td>\n",
       "      <td>2.000000</td>\n",
       "      <td>2.000000</td>\n",
       "      <td>0.000000</td>\n",
       "      <td>40.860000</td>\n",
       "      <td>48.951500</td>\n",
       "      <td>47.380000</td>\n",
       "      <td>2.000000</td>\n",
       "    </tr>\n",
       "    <tr>\n",
       "      <th>75%</th>\n",
       "      <td>69.000000</td>\n",
       "      <td>30.000000</td>\n",
       "      <td>1.000000</td>\n",
       "      <td>3.000000</td>\n",
       "      <td>1.000000</td>\n",
       "      <td>3.000000</td>\n",
       "      <td>3.000000</td>\n",
       "      <td>1.000000</td>\n",
       "      <td>62.840000</td>\n",
       "      <td>74.435500</td>\n",
       "      <td>67.250000</td>\n",
       "      <td>3.000000</td>\n",
       "    </tr>\n",
       "    <tr>\n",
       "      <th>max</th>\n",
       "      <td>90.000000</td>\n",
       "      <td>35.000000</td>\n",
       "      <td>1.000000</td>\n",
       "      <td>3.000000</td>\n",
       "      <td>1.000000</td>\n",
       "      <td>3.000000</td>\n",
       "      <td>3.000000</td>\n",
       "      <td>1.000000</td>\n",
       "      <td>99.480000</td>\n",
       "      <td>99.820000</td>\n",
       "      <td>99.750000</td>\n",
       "      <td>3.000000</td>\n",
       "    </tr>\n",
       "  </tbody>\n",
       "</table>\n",
       "</div>"
      ],
      "text/plain": [
       "              Age         Bmi    Drinking   Excercise      Gender        Junk  \\\n",
       "count  996.000000  996.000000  996.000000  996.000000  996.000000  996.000000   \n",
       "mean    46.425703   24.959839    0.468876    1.998996    0.475904    1.993976   \n",
       "std     25.705395    6.036605    0.499281    0.810111    0.499670    0.827883   \n",
       "min      2.000000   15.000000    0.000000    1.000000    0.000000    1.000000   \n",
       "25%     24.000000   20.000000    0.000000    1.000000    0.000000    1.000000   \n",
       "50%     46.000000   25.000000    0.000000    2.000000    0.000000    2.000000   \n",
       "75%     69.000000   30.000000    1.000000    3.000000    1.000000    3.000000   \n",
       "max     90.000000   35.000000    1.000000    3.000000    1.000000    3.000000   \n",
       "\n",
       "            Sleep     Smoking    Diabetes  Hypertension  Depression  \\\n",
       "count  996.000000  996.000000  996.000000    996.000000  996.000000   \n",
       "mean     2.006024    0.482932   41.887811     48.727909   47.401717   \n",
       "std      0.805736    0.499960   27.373815     30.272018   28.655386   \n",
       "min      1.000000    0.000000    0.220000      0.093000    0.080000   \n",
       "25%      1.000000    0.000000   18.260000     21.593000   24.080000   \n",
       "50%      2.000000    0.000000   40.860000     48.951500   47.380000   \n",
       "75%      3.000000    1.000000   62.840000     74.435500   67.250000   \n",
       "max      3.000000    1.000000   99.480000     99.820000   99.750000   \n",
       "\n",
       "           output  \n",
       "count  996.000000  \n",
       "mean     1.874498  \n",
       "std      0.887270  \n",
       "min      1.000000  \n",
       "25%      1.000000  \n",
       "50%      2.000000  \n",
       "75%      3.000000  \n",
       "max      3.000000  "
      ]
     },
     "execution_count": 6,
     "metadata": {},
     "output_type": "execute_result"
    }
   ],
   "source": [
    "data.describe()"
   ]
  },
  {
   "cell_type": "code",
   "execution_count": 7,
   "metadata": {},
   "outputs": [
    {
     "data": {
      "text/plain": [
       "<AxesSubplot: >"
      ]
     },
     "execution_count": 7,
     "metadata": {},
     "output_type": "execute_result"
    },
    {
     "data": {
      "image/png": "[encoded data removed]",
      "text/plain": [
       "<Figure size 1080x1080 with 2 Axes>"
      ]
     },
     "metadata": {
      "needs_background": "light"
     },
     "output_type": "display_data"
    }
   ],
   "source": [
    "import seaborn as sns\n",
    "\n",
    "corr = data.corr()\n",
    "\n",
    "plt.figure(figsize = (15,15))\n",
    "sns.heatmap(corr, annot = True)"
   ]
  },
  {
   "cell_type": "code",
   "execution_count": 8,
   "metadata": {},
   "outputs": [
    {
     "data": {
      "text/html": [
       "<div>\n",
       "<style scoped>\n",
       "    .dataframe tbody tr th:only-of-type {\n",
       "        vertical-align: middle;\n",
       "    }\n",
       "\n",
       "    .dataframe tbody tr th {\n",
       "        vertical-align: top;\n",
       "    }\n",
       "\n",
       "    .dataframe thead th {\n",
       "        text-align: right;\n",
       "    }\n",
       "</style>\n",
       "<table border=\"1\" class=\"dataframe\">\n",
       "  <thead>\n",
       "    <tr style=\"text-align: right;\">\n",
       "      <th></th>\n",
       "      <th>Age</th>\n",
       "      <th>Bmi</th>\n",
       "      <th>Drinking</th>\n",
       "      <th>Excercise</th>\n",
       "      <th>Gender</th>\n",
       "      <th>Junk</th>\n",
       "      <th>Sleep</th>\n",
       "      <th>Smoking</th>\n",
       "      <th>Diabetes</th>\n",
       "      <th>Hypertension</th>\n",
       "      <th>Depression</th>\n",
       "      <th>output</th>\n",
       "    </tr>\n",
       "  </thead>\n",
       "  <tbody>\n",
       "    <tr>\n",
       "      <th>Age</th>\n",
       "      <td>1.000000</td>\n",
       "      <td>0.026341</td>\n",
       "      <td>0.018183</td>\n",
       "      <td>-0.014217</td>\n",
       "      <td>-0.014615</td>\n",
       "      <td>0.006591</td>\n",
       "      <td>0.003709</td>\n",
       "      <td>0.020116</td>\n",
       "      <td>0.212380</td>\n",
       "      <td>0.319142</td>\n",
       "      <td>0.087585</td>\n",
       "      <td>0.352356</td>\n",
       "    </tr>\n",
       "    <tr>\n",
       "      <th>Bmi</th>\n",
       "      <td>0.026341</td>\n",
       "      <td>1.000000</td>\n",
       "      <td>0.020926</td>\n",
       "      <td>0.018282</td>\n",
       "      <td>0.019337</td>\n",
       "      <td>-0.051128</td>\n",
       "      <td>0.002943</td>\n",
       "      <td>-0.056838</td>\n",
       "      <td>0.166085</td>\n",
       "      <td>0.119590</td>\n",
       "      <td>-0.002970</td>\n",
       "      <td>0.071863</td>\n",
       "    </tr>\n",
       "    <tr>\n",
       "      <th>Drinking</th>\n",
       "      <td>0.018183</td>\n",
       "      <td>0.020926</td>\n",
       "      <td>1.000000</td>\n",
       "      <td>0.001165</td>\n",
       "      <td>-0.045309</td>\n",
       "      <td>0.021429</td>\n",
       "      <td>-0.012025</td>\n",
       "      <td>-0.038366</td>\n",
       "      <td>0.266829</td>\n",
       "      <td>0.591670</td>\n",
       "      <td>0.165231</td>\n",
       "      <td>0.452853</td>\n",
       "    </tr>\n",
       "    <tr>\n",
       "      <th>Excercise</th>\n",
       "      <td>-0.014217</td>\n",
       "      <td>0.018282</td>\n",
       "      <td>0.001165</td>\n",
       "      <td>1.000000</td>\n",
       "      <td>-0.016198</td>\n",
       "      <td>-0.037472</td>\n",
       "      <td>-0.013848</td>\n",
       "      <td>-0.013690</td>\n",
       "      <td>-0.233500</td>\n",
       "      <td>-0.111115</td>\n",
       "      <td>-0.028377</td>\n",
       "      <td>-0.044919</td>\n",
       "    </tr>\n",
       "    <tr>\n",
       "      <th>Gender</th>\n",
       "      <td>-0.014615</td>\n",
       "      <td>0.019337</td>\n",
       "      <td>-0.045309</td>\n",
       "      <td>-0.016198</td>\n",
       "      <td>1.000000</td>\n",
       "      <td>-0.005210</td>\n",
       "      <td>-0.019610</td>\n",
       "      <td>-0.035844</td>\n",
       "      <td>0.048435</td>\n",
       "      <td>-0.148147</td>\n",
       "      <td>-0.269351</td>\n",
       "      <td>0.064580</td>\n",
       "    </tr>\n",
       "    <tr>\n",
       "      <th>Junk</th>\n",
       "      <td>0.006591</td>\n",
       "      <td>-0.051128</td>\n",
       "      <td>0.021429</td>\n",
       "      <td>-0.037472</td>\n",
       "      <td>-0.005210</td>\n",
       "      <td>1.000000</td>\n",
       "      <td>-0.004466</td>\n",
       "      <td>0.009464</td>\n",
       "      <td>0.306754</td>\n",
       "      <td>0.221164</td>\n",
       "      <td>0.058629</td>\n",
       "      <td>0.116636</td>\n",
       "    </tr>\n",
       "    <tr>\n",
       "      <th>Sleep</th>\n",
       "      <td>0.003709</td>\n",
       "      <td>0.002943</td>\n",
       "      <td>-0.012025</td>\n",
       "      <td>-0.013848</td>\n",
       "      <td>-0.019610</td>\n",
       "      <td>-0.004466</td>\n",
       "      <td>1.000000</td>\n",
       "      <td>-0.009724</td>\n",
       "      <td>-0.290204</td>\n",
       "      <td>-0.079009</td>\n",
       "      <td>0.128233</td>\n",
       "      <td>-0.139523</td>\n",
       "    </tr>\n",
       "    <tr>\n",
       "      <th>Smoking</th>\n",
       "      <td>0.020116</td>\n",
       "      <td>-0.056838</td>\n",
       "      <td>-0.038366</td>\n",
       "      <td>-0.013690</td>\n",
       "      <td>-0.035844</td>\n",
       "      <td>0.009464</td>\n",
       "      <td>-0.009724</td>\n",
       "      <td>1.000000</td>\n",
       "      <td>0.428564</td>\n",
       "      <td>0.385666</td>\n",
       "      <td>0.423472</td>\n",
       "      <td>-0.035420</td>\n",
       "    </tr>\n",
       "    <tr>\n",
       "      <th>Diabetes</th>\n",
       "      <td>0.212380</td>\n",
       "      <td>0.166085</td>\n",
       "      <td>0.266829</td>\n",
       "      <td>-0.233500</td>\n",
       "      <td>0.048435</td>\n",
       "      <td>0.306754</td>\n",
       "      <td>-0.290204</td>\n",
       "      <td>0.428564</td>\n",
       "      <td>1.000000</td>\n",
       "      <td>0.812092</td>\n",
       "      <td>0.590381</td>\n",
       "      <td>0.289311</td>\n",
       "    </tr>\n",
       "    <tr>\n",
       "      <th>Hypertension</th>\n",
       "      <td>0.319142</td>\n",
       "      <td>0.119590</td>\n",
       "      <td>0.591670</td>\n",
       "      <td>-0.111115</td>\n",
       "      <td>-0.148147</td>\n",
       "      <td>0.221164</td>\n",
       "      <td>-0.079009</td>\n",
       "      <td>0.385666</td>\n",
       "      <td>0.812092</td>\n",
       "      <td>1.000000</td>\n",
       "      <td>0.646618</td>\n",
       "      <td>0.472045</td>\n",
       "    </tr>\n",
       "    <tr>\n",
       "      <th>Depression</th>\n",
       "      <td>0.087585</td>\n",
       "      <td>-0.002970</td>\n",
       "      <td>0.165231</td>\n",
       "      <td>-0.028377</td>\n",
       "      <td>-0.269351</td>\n",
       "      <td>0.058629</td>\n",
       "      <td>0.128233</td>\n",
       "      <td>0.423472</td>\n",
       "      <td>0.590381</td>\n",
       "      <td>0.646618</td>\n",
       "      <td>1.000000</td>\n",
       "      <td>-0.133364</td>\n",
       "    </tr>\n",
       "    <tr>\n",
       "      <th>output</th>\n",
       "      <td>0.352356</td>\n",
       "      <td>0.071863</td>\n",
       "      <td>0.452853</td>\n",
       "      <td>-0.044919</td>\n",
       "      <td>0.064580</td>\n",
       "      <td>0.116636</td>\n",
       "      <td>-0.139523</td>\n",
       "      <td>-0.035420</td>\n",
       "      <td>0.289311</td>\n",
       "      <td>0.472045</td>\n",
       "      <td>-0.133364</td>\n",
       "      <td>1.000000</td>\n",
       "    </tr>\n",
       "  </tbody>\n",
       "</table>\n",
       "</div>"
      ],
      "text/plain": [
       "                   Age       Bmi  Drinking  Excercise    Gender      Junk  \\\n",
       "Age           1.000000  0.026341  0.018183  -0.014217 -0.014615  0.006591   \n",
       "Bmi           0.026341  1.000000  0.020926   0.018282  0.019337 -0.051128   \n",
       "Drinking      0.018183  0.020926  1.000000   0.001165 -0.045309  0.021429   \n",
       "Excercise    -0.014217  0.018282  0.001165   1.000000 -0.016198 -0.037472   \n",
       "Gender       -0.014615  0.019337 -0.045309  -0.016198  1.000000 -0.005210   \n",
       "Junk          0.006591 -0.051128  0.021429  -0.037472 -0.005210  1.000000   \n",
       "Sleep         0.003709  0.002943 -0.012025  -0.013848 -0.019610 -0.004466   \n",
       "Smoking       0.020116 -0.056838 -0.038366  -0.013690 -0.035844  0.009464   \n",
       "Diabetes      0.212380  0.166085  0.266829  -0.233500  0.048435  0.306754   \n",
       "Hypertension  0.319142  0.119590  0.591670  -0.111115 -0.148147  0.221164   \n",
       "Depression    0.087585 -0.002970  0.165231  -0.028377 -0.269351  0.058629   \n",
       "output        0.352356  0.071863  0.452853  -0.044919  0.064580  0.116636   \n",
       "\n",
       "                 Sleep   Smoking  Diabetes  Hypertension  Depression    output  \n",
       "Age           0.003709  0.020116  0.212380      0.319142    0.087585  0.352356  \n",
       "Bmi           0.002943 -0.056838  0.166085      0.119590   -0.002970  0.071863  \n",
       "Drinking     -0.012025 -0.038366  0.266829      0.591670    0.165231  0.452853  \n",
       "Excercise    -0.013848 -0.013690 -0.233500     -0.111115   -0.028377 -0.044919  \n",
       "Gender       -0.019610 -0.035844  0.048435     -0.148147   -0.269351  0.064580  \n",
       "Junk         -0.004466  0.009464  0.306754      0.221164    0.058629  0.116636  \n",
       "Sleep         1.000000 -0.009724 -0.290204     -0.079009    0.128233 -0.139523  \n",
       "Smoking      -0.009724  1.000000  0.428564      0.385666    0.423472 -0.035420  \n",
       "Diabetes     -0.290204  0.428564  1.000000      0.812092    0.590381  0.289311  \n",
       "Hypertension -0.079009  0.385666  0.812092      1.000000    0.646618  0.472045  \n",
       "Depression    0.128233  0.423472  0.590381      0.646618    1.000000 -0.133364  \n",
       "output       -0.139523 -0.035420  0.289311      0.472045   -0.133364  1.000000  "
      ]
     },
     "execution_count": 8,
     "metadata": {},
     "output_type": "execute_result"
    }
   ],
   "source": [
    "corr"
   ]
  },
  {
   "cell_type": "code",
   "execution_count": 9,
   "metadata": {},
   "outputs": [
    {
     "data": {
      "text/plain": [
       "<AxesSubplot: xlabel='output', ylabel='count'>"
      ]
     },
     "execution_count": 9,
     "metadata": {},
     "output_type": "execute_result"
    },
    {
     "data": {
      "image/png": "[encoded data removed]",
      "text/plain": [
       "<Figure size 432x288 with 1 Axes>"
      ]
     },
     "metadata": {},
     "output_type": "display_data"
    }
   ],
   "source": [
    "sns.set_style('whitegrid')\n",
    "sns.countplot(x = 'output', data = data)"
   ]
  },
  {
   "cell_type": "code",
   "execution_count": 10,
   "metadata": {},
   "outputs": [
    {
     "data": {
      "text/html": [
       "<div>\n",
       "<style scoped>\n",
       "    .dataframe tbody tr th:only-of-type {\n",
       "        vertical-align: middle;\n",
       "    }\n",
       "\n",
       "    .dataframe tbody tr th {\n",
       "        vertical-align: top;\n",
       "    }\n",
       "\n",
       "    .dataframe thead th {\n",
       "        text-align: right;\n",
       "    }\n",
       "</style>\n",
       "<table border=\"1\" class=\"dataframe\">\n",
       "  <thead>\n",
       "    <tr style=\"text-align: right;\">\n",
       "      <th></th>\n",
       "      <th>Age</th>\n",
       "      <th>Bmi</th>\n",
       "      <th>Drinking</th>\n",
       "      <th>Excercise</th>\n",
       "      <th>Gender</th>\n",
       "      <th>Junk</th>\n",
       "      <th>Sleep</th>\n",
       "      <th>Smoking</th>\n",
       "      <th>Diabetes</th>\n",
       "      <th>Hypertension</th>\n",
       "      <th>Depression</th>\n",
       "      <th>output</th>\n",
       "    </tr>\n",
       "  </thead>\n",
       "  <tbody>\n",
       "    <tr>\n",
       "      <th>0</th>\n",
       "      <td>46</td>\n",
       "      <td>15</td>\n",
       "      <td>1</td>\n",
       "      <td>1</td>\n",
       "      <td>1</td>\n",
       "      <td>2</td>\n",
       "      <td>1</td>\n",
       "      <td>0</td>\n",
       "      <td>88.12</td>\n",
       "      <td>77.05</td>\n",
       "      <td>44.04</td>\n",
       "      <td>2</td>\n",
       "    </tr>\n",
       "    <tr>\n",
       "      <th>1</th>\n",
       "      <td>8</td>\n",
       "      <td>34</td>\n",
       "      <td>1</td>\n",
       "      <td>2</td>\n",
       "      <td>0</td>\n",
       "      <td>1</td>\n",
       "      <td>2</td>\n",
       "      <td>0</td>\n",
       "      <td>21.26</td>\n",
       "      <td>45.60</td>\n",
       "      <td>5.35</td>\n",
       "      <td>3</td>\n",
       "    </tr>\n",
       "    <tr>\n",
       "      <th>2</th>\n",
       "      <td>63</td>\n",
       "      <td>15</td>\n",
       "      <td>0</td>\n",
       "      <td>3</td>\n",
       "      <td>0</td>\n",
       "      <td>3</td>\n",
       "      <td>1</td>\n",
       "      <td>0</td>\n",
       "      <td>56.64</td>\n",
       "      <td>37.70</td>\n",
       "      <td>49.00</td>\n",
       "      <td>2</td>\n",
       "    </tr>\n",
       "    <tr>\n",
       "      <th>3</th>\n",
       "      <td>42</td>\n",
       "      <td>32</td>\n",
       "      <td>0</td>\n",
       "      <td>2</td>\n",
       "      <td>0</td>\n",
       "      <td>2</td>\n",
       "      <td>2</td>\n",
       "      <td>1</td>\n",
       "      <td>42.72</td>\n",
       "      <td>47.40</td>\n",
       "      <td>52.10</td>\n",
       "      <td>1</td>\n",
       "    </tr>\n",
       "    <tr>\n",
       "      <th>4</th>\n",
       "      <td>45</td>\n",
       "      <td>30</td>\n",
       "      <td>0</td>\n",
       "      <td>2</td>\n",
       "      <td>1</td>\n",
       "      <td>1</td>\n",
       "      <td>1</td>\n",
       "      <td>1</td>\n",
       "      <td>44.76</td>\n",
       "      <td>20.06</td>\n",
       "      <td>38.68</td>\n",
       "      <td>2</td>\n",
       "    </tr>\n",
       "  </tbody>\n",
       "</table>\n",
       "</div>"
      ],
      "text/plain": [
       "   Age  Bmi  Drinking  Excercise  Gender  Junk  Sleep  Smoking  Diabetes  \\\n",
       "0   46   15         1          1       1     2      1        0     88.12   \n",
       "1    8   34         1          2       0     1      2        0     21.26   \n",
       "2   63   15         0          3       0     3      1        0     56.64   \n",
       "3   42   32         0          2       0     2      2        1     42.72   \n",
       "4   45   30         0          2       1     1      1        1     44.76   \n",
       "\n",
       "   Hypertension  Depression  output  \n",
       "0         77.05       44.04       2  \n",
       "1         45.60        5.35       3  \n",
       "2         37.70       49.00       2  \n",
       "3         47.40       52.10       1  \n",
       "4         20.06       38.68       2  "
      ]
     },
     "execution_count": 10,
     "metadata": {},
     "output_type": "execute_result"
    }
   ],
   "source": [
    "dataset = data.copy()\n",
    "dataset.head()"
   ]
  },
  {
   "cell_type": "code",
   "execution_count": 11,
   "metadata": {},
   "outputs": [],
   "source": [
    "X = dataset.drop(['output'], axis = 1)\n",
    "y = dataset['output']"
   ]
  },
  {
   "cell_type": "code",
   "execution_count": 12,
   "metadata": {},
   "outputs": [
    {
     "data": {
      "text/plain": [
       "Index(['Age', 'Bmi', 'Drinking', 'Excercise', 'Gender', 'Junk', 'Sleep',\n",
       "       'Smoking', 'Diabetes', 'Hypertension', 'Depression'],\n",
       "      dtype='object')"
      ]
     },
     "execution_count": 12,
     "metadata": {},
     "output_type": "execute_result"
    }
   ],
   "source": [
    "X.columns"
   ]
  },
  {
   "cell_type": "code",
   "execution_count": 13,
   "metadata": {},
   "outputs": [],
   "source": [
    "from sklearn.model_selection import train_test_split\n",
    "\n",
    "X_train, X_test, y_train, y_test = train_test_split(X, y, test_size = 0.2, random_state = 42)"
   ]
  },
  {
   "cell_type": "code",
   "execution_count": 14,
   "metadata": {},
   "outputs": [
    {
     "data": {
      "text/html": [
       "<style>#sk-container-id-1 {color: black;background-color: white;}#sk-container-id-1 pre{padding: 0;}#sk-container-id-1 div.sk-toggleable {background-color: white;}#sk-container-id-1 label.sk-toggleable__label {cursor: pointer;display: block;width: 100%;margin-bottom: 0;padding: 0.3em;box-sizing: border-box;text-align: center;}#sk-container-id-1 label.sk-toggleable__label-arrow:before {content: \"▸\";float: left;margin-right: 0.25em;color: #696969;}#sk-container-id-1 label.sk-toggleable__label-arrow:hover:before {color: black;}#sk-container-id-1 div.sk-estimator:hover label.sk-toggleable__label-arrow:before {color: black;}#sk-container-id-1 div.sk-toggleable__content {max-height: 0;max-width: 0;overflow: hidden;text-align: left;background-color: #f0f8ff;}#sk-container-id-1 div.sk-toggleable__content pre {margin: 0.2em;color: black;border-radius: 0.25em;background-color: #f0f8ff;}#sk-container-id-1 input.sk-toggleable__control:checked~div.sk-toggleable__content {max-height: 200px;max-width: 100%;overflow: auto;}#sk-container-id-1 input.sk-toggleable__control:checked~label.sk-toggleable__label-arrow:before {content: \"▾\";}#sk-container-id-1 div.sk-estimator input.sk-toggleable__control:checked~label.sk-toggleable__label {background-color: #d4ebff;}#sk-container-id-1 div.sk-label input.sk-toggleable__control:checked~label.sk-toggleable__label {background-color: #d4ebff;}#sk-container-id-1 input.sk-hidden--visually {border: 0;clip: rect(1px 1px 1px 1px);clip: rect(1px, 1px, 1px, 1px);height: 1px;margin: -1px;overflow: hidden;padding: 0;position: absolute;width: 1px;}#sk-container-id-1 div.sk-estimator {font-family: monospace;background-color: #f0f8ff;border: 1px dotted black;border-radius: 0.25em;box-sizing: border-box;margin-bottom: 0.5em;}#sk-container-id-1 div.sk-estimator:hover {background-color: #d4ebff;}#sk-container-id-1 div.sk-parallel-item::after {content: \"\";width: 100%;border-bottom: 1px solid gray;flex-grow: 1;}#sk-container-id-1 div.sk-label:hover label.sk-toggleable__label {background-color: #d4ebff;}#sk-container-id-1 div.sk-serial::before {content: \"\";position: absolute;border-left: 1px solid gray;box-sizing: border-box;top: 0;bottom: 0;left: 50%;z-index: 0;}#sk-container-id-1 div.sk-serial {display: flex;flex-direction: column;align-items: center;background-color: white;padding-right: 0.2em;padding-left: 0.2em;position: relative;}#sk-container-id-1 div.sk-item {position: relative;z-index: 1;}#sk-container-id-1 div.sk-parallel {display: flex;align-items: stretch;justify-content: center;background-color: white;position: relative;}#sk-container-id-1 div.sk-item::before, #sk-container-id-1 div.sk-parallel-item::before {content: \"\";position: absolute;border-left: 1px solid gray;box-sizing: border-box;top: 0;bottom: 0;left: 50%;z-index: -1;}#sk-container-id-1 div.sk-parallel-item {display: flex;flex-direction: column;z-index: 1;position: relative;background-color: white;}#sk-container-id-1 div.sk-parallel-item:first-child::after {align-self: flex-end;width: 50%;}#sk-container-id-1 div.sk-parallel-item:last-child::after {align-self: flex-start;width: 50%;}#sk-container-id-1 div.sk-parallel-item:only-child::after {width: 0;}#sk-container-id-1 div.sk-dashed-wrapped {border: 1px dashed gray;margin: 0 0.4em 0.5em 0.4em;box-sizing: border-box;padding-bottom: 0.4em;background-color: white;}#sk-container-id-1 div.sk-label label {font-family: monospace;font-weight: bold;display: inline-block;line-height: 1.2em;}#sk-container-id-1 div.sk-label-container {text-align: center;}#sk-container-id-1 div.sk-container {/* jupyter's `normalize.less` sets `[hidden] { display: none; }` but bootstrap.min.css set `[hidden] { display: none !important; }` so we also need the `!important` here to be able to override the default hidden behavior on the sphinx rendered scikit-learn.org. See: https://github.com/scikit-learn/scikit-learn/issues/21755 */display: inline-block !important;position: relative;}#sk-container-id-1 div.sk-text-repr-fallback {display: none;}</style><div id=\"sk-container-id-1\" class=\"sk-top-container\"><div class=\"sk-text-repr-fallback\"><pre>RandomForestClassifier(n_estimators=20)</pre><b>In a Jupyter environment, please rerun this cell to show the HTML representation or trust the notebook. <br />On GitHub, the HTML representation is unable to render, please try loading this page with nbviewer.org.</b></div><div class=\"sk-container\" hidden><div class=\"sk-item\"><div class=\"sk-estimator sk-toggleable\"><input class=\"sk-toggleable__control sk-hidden--visually\" id=\"sk-estimator-id-1\" type=\"checkbox\" checked><label for=\"sk-estimator-id-1\" class=\"sk-toggleable__label sk-toggleable__label-arrow\">RandomForestClassifier</label><div class=\"sk-toggleable__content\"><pre>RandomForestClassifier(n_estimators=20)</pre></div></div></div></div></div>"
      ],
      "text/plain": [
       "RandomForestClassifier(n_estimators=20)"
      ]
     },
     "execution_count": 14,
     "metadata": {},
     "output_type": "execute_result"
    }
   ],
   "source": [
    "from sklearn.ensemble import RandomForestClassifier\n",
    "model = RandomForestClassifier(n_estimators=20)\n",
    "model.fit(X_train, y_train)"
   ]
  },
  {
   "cell_type": "code",
   "execution_count": 15,
   "metadata": {},
   "outputs": [
    {
     "data": {
      "text/plain": [
       "array([3, 2, 3, 1, 1, 1, 3, 3, 3, 1], dtype=int64)"
      ]
     },
     "execution_count": 15,
     "metadata": {},
     "output_type": "execute_result"
    }
   ],
   "source": [
    "pred = model.predict(X_test)\n",
    "pred[:10]"
   ]
  },
  {
   "cell_type": "code",
   "execution_count": 16,
   "metadata": {},
   "outputs": [
    {
     "data": {
      "text/plain": [
       "array([[79,  2,  3],\n",
       "       [ 3, 42,  4],\n",
       "       [ 4,  3, 60]], dtype=int64)"
      ]
     },
     "execution_count": 16,
     "metadata": {},
     "output_type": "execute_result"
    }
   ],
   "source": [
    "from sklearn.metrics import confusion_matrix\n",
    "confusion_matrix(y_test, pred)"
   ]
  },
  {
   "cell_type": "code",
   "execution_count": 37,
   "metadata": {},
   "outputs": [
    {
     "name": "stdout",
     "output_type": "stream",
     "text": [
      "[1 2 3 3 3 1 3 3 3 1 1 1 3 1 1 3 2 1 3 1 1 3 3 1 1 2 3 1 1 1 2 2 3 1 1 1 2\n",
      " 3 1 3 2 2 3 1 3 2 1 3 2 3 1 3 3 1 2 3 1 1 2 2 1 1 2 1 1 3 3 3 2 1 1 3 3 3\n",
      " 1 1 2 3 2 1 1 3 2 1 3 1 2 3 2 3 3 1 3 2 2 2 1 1 1 1 1 3 2 2 1 1 1 1 1 3 1\n",
      " 2 2 2 3 1 1 1 2 3 1 1 2 1 1 2 3 2 1 1 1 1 1 3 1 3 3 2 3 2 1 3 1 3 2 2 1 3\n",
      " 3 1 3 3 3 3 1 3 1 2 1 3 1 3 3 3 1 3 3 1 1 2 3 2 2 1 2 1 1 3 1 2 1 1 3 3 2\n",
      " 2 1 1 1 1 2 2 2 3 2 3 1 3 3 2]\n"
     ]
    }
   ],
   "source": [
    "np.array(y_test)\n",
    "print(y_test)"
   ]
  },
  {
   "cell_type": "code",
   "execution_count": 29,
   "metadata": {},
   "outputs": [
    {
     "name": "stdout",
     "output_type": "stream",
     "text": [
      "[3 2 3 1 1 1 3 3 3 1 1 1 1 1 1 3 2 1 3 1 1 2 3 1 1 2 3 1 1 1 2 2 2 1 1 1 2\n",
      " 3 1 3 2 2 3 1 3 2 1 3 2 3 3 3 3 1 2 3 1 1 2 2 1 1 1 1 1 3 2 3 2 1 1 3 3 3\n",
      " 1 1 2 3 2 1 1 3 2 1 3 1 2 3 2 3 3 1 3 2 2 2 1 1 1 1 1 3 2 2 1 1 1 1 1 3 1\n",
      " 3 2 1 3 1 1 1 2 1 1 1 3 1 1 2 3 2 1 1 1 2 1 3 1 3 3 2 3 2 1 3 1 3 2 1 1 3\n",
      " 3 1 3 3 3 3 1 3 1 3 1 3 1 3 3 3 1 3 3 1 1 2 3 2 2 3 2 1 2 3 1 2 1 1 3 3 2\n",
      " 2 1 1 1 1 2 2 2 3 2 3 1 3 3 3]\n"
     ]
    }
   ],
   "source": [
    "print(pred)"
   ]
  },
  {
   "cell_type": "code",
   "execution_count": 25,
   "metadata": {},
   "outputs": [],
   "source": [
    "cm = confusion_matrix(y_test, pred)"
   ]
  },
  {
   "cell_type": "code",
   "execution_count": 17,
   "metadata": {},
   "outputs": [],
   "source": [
    "from sklearn.metrics import accuracy_score"
   ]
  },
  {
   "cell_type": "code",
   "execution_count": 18,
   "metadata": {},
   "outputs": [
    {
     "name": "stdout",
     "output_type": "stream",
     "text": [
      "Accuracy of model is 90.5%\n"
     ]
    }
   ],
   "source": [
    "print(f\"Accuracy of model is {round(accuracy_score(y_test, pred)*100, 2)}%\")"
   ]
  },
  {
   "cell_type": "code",
   "execution_count": 19,
   "metadata": {},
   "outputs": [],
   "source": [
    "import pickle\n",
    "pickle.dump(model, open('model.pkl', 'wb'))"
   ]
  }
 ],
 "metadata": {
  "kernelspec": {
   "display_name": "Python 3",
   "language": "python",
   "name": "python3"
  },
  "language_info": {
   "codemirror_mode": {
    "name": "ipython",
    "version": 3
   },
   "file_extension": ".py",
   "mimetype": "text/x-python",
   "name": "python",
   "nbconvert_exporter": "python",
   "pygments_lexer": "ipython3",
   "version": "3.10.1"
  },
  "vscode": {
   "interpreter": {
    "hash": "a020e5e5617b3238c444f1ef882f01690cdde1543215a8487b86c32a07264eac"
   }
  }
 },
 "nbformat": 4,
 "nbformat_minor": 4
}
